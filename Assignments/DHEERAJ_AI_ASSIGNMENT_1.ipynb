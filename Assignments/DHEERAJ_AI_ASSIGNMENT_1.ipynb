{
  "nbformat": 4,
  "nbformat_minor": 0,
  "metadata": {
    "colab": {
      "provenance": []
    },
    "kernelspec": {
      "name": "python3",
      "display_name": "Python 3"
    },
    "language_info": {
      "name": "python"
    }
  },
  "cells": [
    {
      "cell_type": "markdown",
      "source": [
        "AI Assignment 1"
      ],
      "metadata": {
        "id": "HMzXWS7ZFNop"
      }
    },
    {
      "cell_type": "code",
      "execution_count": null,
      "metadata": {
        "colab": {
          "base_uri": "https://localhost:8080/"
        },
        "id": "2fJ9rLlydeS9",
        "outputId": "6534d007-3902-41c4-cd75-95f2bdf1a8cc"
      },
      "outputs": [
        {
          "output_type": "stream",
          "name": "stdout",
          "text": [
            "o1 =  <PandasArray>\n",
            "[0.3869003430123682, 0.8551196608041906, 0.38079258371620806,\n",
            " 0.1783098277777202]\n",
            "Length: 4, dtype: float64\n",
            "The DataFrame df is:\n",
            "          0         1         2         3\n",
            "0  0.386900  0.855120  0.380793  0.178310\n",
            "1  0.781659  0.472209  0.259480  0.692399\n",
            "2  0.980485  0.246254  0.790244  0.762335\n",
            "3  0.120040  0.838903  0.461739  0.125781\n"
          ]
        }
      ],
      "source": [
        "#Task - 1\n",
        "#Create a pandas dataframe (DataFrame name as 'df') with numpy random values (4 features and 4 observation)\n",
        "\n",
        "import numpy as np\n",
        "import pandas as pd\n",
        "\n",
        "#initialing observations series\n",
        "o1 = pd.Series(np.random.rand(4))\n",
        "o2 = pd.Series(np.random.rand(4))\n",
        "o3 = pd.Series(np.random.rand(4))\n",
        "o4 = pd.Series(np.random.rand(4))\n",
        "\n",
        "#Creating DataFrame\n",
        "df = pd.DataFrame([o1, o2, o3, o4])\n",
        "\n",
        "'''\n",
        "data = np.random.rand(4, 4)\n",
        "print(data)\n",
        "df = pd.DataFrame(data)\n",
        "'''\n",
        "\n",
        "print('The DataFrame df is:')\n",
        "print(df)"
      ]
    },
    {
      "cell_type": "code",
      "source": [
        "#Task - 2\n",
        "#Rename the task - 1 'df' dataframe column names to 'Random value 1', 'Random value 2', 'Random value 3' & 'Random value 4'\n",
        "\n",
        "df.columns = ['Random value 1', 'Random value 2', 'Random value 3', 'Random value 4']\n",
        "\n",
        "print('The DataFrame df after renaming the features is:')\n",
        "print(df)"
      ],
      "metadata": {
        "id": "3jbin5w5uos-"
      },
      "execution_count": null,
      "outputs": []
    },
    {
      "cell_type": "code",
      "source": [
        "#Task - 3\n",
        "#Find the descriptive statistics of the 'df' dataframe.\n",
        "\n",
        "print(\"Descriptive statistics of df is:\")\n",
        "print(df.describe(include='all'))\n"
      ],
      "metadata": {
        "id": "xkoKiVR7uvLc"
      },
      "execution_count": null,
      "outputs": []
    },
    {
      "cell_type": "code",
      "source": [
        "#Task - 4\n",
        "#Check for the null values in 'df' and find the data type of the columns.\n",
        "\n",
        "print('Checking for the null values in df:')\n",
        "print(df.isnull().all().sum())\n",
        "\n",
        "print('The data types:')\n",
        "print(df.dtypes)\n"
      ],
      "metadata": {
        "id": "v3s4G-8KuyB8"
      },
      "execution_count": null,
      "outputs": []
    },
    {
      "cell_type": "code",
      "source": [
        "#Task - 5\n",
        "#Display the 'Random value 2' & 'Random value 3' columns with location method and index location method.\n",
        "\n",
        "print('The DataFrame df is:')\n",
        "print(df)\n",
        "print('Using location method:')\n",
        "print('Displaying Random value 2:')\n",
        "print(df.loc[0:, 'Random value 2'])\n",
        "print('Displaying Random value 3:')\n",
        "print(df.loc[0:, 'Random value 3'])\n",
        "\n",
        "print('Using index location method:')\n",
        "print('Displaying Random value 2:')\n",
        "print(df.iloc[0:, 1])\n",
        "print('Displaying Random value 3:')\n",
        "print(df.iloc[0:, 2])"
      ],
      "metadata": {
        "id": "_UPHhGylu40Q"
      },
      "execution_count": null,
      "outputs": []
    }
  ]
}